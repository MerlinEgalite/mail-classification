{
 "cells": [
  {
   "cell_type": "code",
   "execution_count": null,
   "metadata": {},
   "outputs": [],
   "source": [
    "\"\"\"\n",
    "This script can be used as skeleton code to read the challenge train and test\n",
    "\"\"\"\n",
    "import pandas as pd\n",
    "from sklearn.preprocessing import LabelEncoder"
   ]
  },
  {
   "cell_type": "code",
   "execution_count": 246,
   "metadata": {},
   "outputs": [],
   "source": [
    "## Read csvs\n",
    "train_df = pd.read_csv('train.csv', index_col=0)\n",
    "test_df = pd.read_csv('test.csv', index_col=0)"
   ]
  },
  {
   "cell_type": "code",
   "execution_count": 247,
   "metadata": {},
   "outputs": [],
   "source": [
    "## Handle missing values\n",
    "train_df.fillna('NA', inplace=True)\n",
    "test_df.fillna('NA', inplace=True)\n",
    "\n",
    "days = ['Mon', 'Tue', 'Wed', 'Thu', 'Fri', 'Sat', 'Sun']\n",
    "months = ['Jan', 'Feb', 'Mar', 'Apr', 'May', 'Jun', 'Jul', 'Aug', 'Sep', 'Oct', 'Nov', 'Dec']\n",
    "\n",
    "# Training Data Total\n",
    "new_train_df = train_df.copy()\n",
    "new_train_df = new_train_df.drop(['date', 'bcced'], axis=1)\n",
    "\n",
    "# Testing Data\n",
    "new_test_df = test_df.copy()\n",
    "new_test_df = new_test_df.drop(['date', 'bcced'], axis=1)"
   ]
  },
  {
   "cell_type": "code",
   "execution_count": 249,
   "metadata": {},
   "outputs": [],
   "source": [
    "# Label Encoder\n",
    "def LabelEnc(data_df, title_column):\n",
    "    lab_Enc = LabelEncoder()\n",
    "    new_data_df=data_df.copy()\n",
    "    new = lab_Enc.fit_transform(new_data_df[title_column].astype(str))\n",
    "    new_data_df[title_column] = new\n",
    "    return new_data_df[title_column]"
   ]
  },
  {
   "cell_type": "code",
   "execution_count": 250,
   "metadata": {},
   "outputs": [],
   "source": [
    "## Function for processing data\n",
    "def processing(dataset, new_dataset):\n",
    "\n",
    "    for (index, row) in dataset['date'].items():\n",
    "\n",
    "        # Process for date\n",
    "        date_list = row.split(' ')\n",
    "        if len(date_list) > 4:\n",
    "            day = date_list[0][0:3]\n",
    "            month = date_list[2]\n",
    "            hour = float(date_list[4][0:2])\n",
    "            minutes = float(date_list[4][3:5]) / 60\n",
    "            new_hour = hour + minutes\n",
    "            new_dataset.at[index, 'day'] = str(day)\n",
    "            new_dataset.at[index, 'month'] = str(month)\n",
    "            new_dataset.at[index, 'hour'] = new_hour\n",
    "\n",
    "        # Process for mail_type\n",
    "        new_dataset.at[index, 'mail_type'] = new_dataset.at[index, 'mail_type'].lower()\n",
    "        new_dataset.at[index, 'org'] = new_dataset.at[index, 'org'].lower()\n",
    "        new_dataset.at[index, 'tld'] = new_dataset.at[index, 'tld'].lower()\n",
    "        \n",
    "    #Label Encoder to transform categories into numbers\n",
    "    categorical=list(new_dataset)\n",
    "    for cat in categorical:\n",
    "        new_dataset[cat]=LabelEnc(new_dataset,cat)\n",
    "\n",
    "    return new_dataset"
   ]
  },
  {
   "cell_type": "code",
   "execution_count": 251,
   "metadata": {},
   "outputs": [],
   "source": [
    "## Preprocessing on Train & Test sets\n",
    "new_train_df = processing(train_df, new_train_df)\n",
    "new_test_df = processing(test_df, new_test_df)"
   ]
  },
  {
   "cell_type": "code",
   "execution_count": 252,
   "metadata": {},
   "outputs": [],
   "source": [
    "# Training Labels\n",
    "trainingLabels_df= new_train_df[['label']]\n",
    "# Training Data\n",
    "trainingData_df=new_train_df.copy()\n",
    "trainingData_df=trainingData_df.drop(['label'],axis=1)"
   ]
  },
  {
   "cell_type": "code",
   "execution_count": 253,
   "metadata": {},
   "outputs": [],
   "source": [
    "## Save into csv files\n",
    "new_train_df.to_csv(\"Training_Data_Labels.csv\", index=True, index_label='Id')\n",
    "trainingData_df.to_csv(\"Training_Data.csv\", index=True, index_label='Id')\n",
    "trainingLabels_df.to_csv(\"Training_Labels.csv\", index=True, index_label='Id')\n",
    "new_test_df.to_csv(\"Testing_Data.csv\", index=True, index_label='Id')"
   ]
  }
 ],
 "metadata": {
  "kernelspec": {
   "display_name": "Python 3",
   "language": "python",
   "name": "python3"
  },
  "language_info": {
   "codemirror_mode": {
    "name": "ipython",
    "version": 3
   },
   "file_extension": ".py",
   "mimetype": "text/x-python",
   "name": "python",
   "nbconvert_exporter": "python",
   "pygments_lexer": "ipython3",
   "version": "3.7.4"
  }
 },
 "nbformat": 4,
 "nbformat_minor": 2
}
