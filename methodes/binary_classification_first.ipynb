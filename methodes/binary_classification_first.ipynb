{
 "cells": [
  {
   "cell_type": "markdown",
   "metadata": {},
   "source": [
    "# Test of the Naive Bayes classifiers\n",
    "\n",
    "## I. On the four categories"
   ]
  },
  {
   "cell_type": "code",
   "execution_count": 197,
   "metadata": {},
   "outputs": [],
   "source": [
    "import pandas as pd\n",
    "import numpy as np\n",
    "from sklearn.decomposition import PCA\n",
    "from sklearn.preprocessing import StandardScaler\n",
    "from sklearn.model_selection import train_test_split\n",
    "from sklearn.naive_bayes import GaussianNB\n",
    "from sklearn.model_selection import GridSearchCV\n",
    "from sklearn.metrics import accuracy_score\n",
    "from sklearn.metrics import confusion_matrix\n",
    "from sklearn.model_selection import cross_val_score"
   ]
  },
  {
   "cell_type": "code",
   "execution_count": 20,
   "metadata": {},
   "outputs": [],
   "source": [
    "# Load the dataset\n",
    "dataset = pd.read_csv('datasets/new_train.csv', index_col=0)\n",
    "X = dataset.drop('label',axis=1).values\n",
    "y = dataset['label'].values"
   ]
  },
  {
   "cell_type": "code",
   "execution_count": 21,
   "metadata": {},
   "outputs": [],
   "source": [
    "# Standardize features\n",
    "sc = StandardScaler()\n",
    "X = sc.fit_transform(X)"
   ]
  },
  {
   "cell_type": "code",
   "execution_count": 22,
   "metadata": {},
   "outputs": [],
   "source": [
    "# Split the dataset into the Training set and Test set\n",
    "X_train, X_test, y_train, y_test = train_test_split(X, y, test_size = 0.2, random_state = 0)"
   ]
  },
  {
   "cell_type": "code",
   "execution_count": 23,
   "metadata": {
    "scrolled": true
   },
   "outputs": [],
   "source": [
    "# Fit Random Forest Classification to the Training set\n",
    "classifier = GaussianNB()\n",
    "classifier.fit(X_train, y_train);"
   ]
  },
  {
   "cell_type": "code",
   "execution_count": 24,
   "metadata": {},
   "outputs": [
    {
     "data": {
      "text/plain": [
       "0.3948942959712804"
      ]
     },
     "execution_count": 24,
     "metadata": {},
     "output_type": "execute_result"
    }
   ],
   "source": [
    "# Predicting the Test set results\n",
    "y_pred = classifier.predict(X_test)\n",
    "accuracy_score(y_test, y_pred)"
   ]
  },
  {
   "cell_type": "markdown",
   "metadata": {},
   "source": [
    "The Bayesian classifier is obviously worse than anything else so far. No need to go any further."
   ]
  },
  {
   "cell_type": "markdown",
   "metadata": {},
   "source": [
    "## II. Binary classification\n",
    "\n",
    "We saw during our data visualization that the label 2 might be easier to seperate from others. Therefore, we will try to proceed to a binary classification on the label 2 on the one hand, and all other labels on the other hand."
   ]
  },
  {
   "cell_type": "code",
   "execution_count": 198,
   "metadata": {},
   "outputs": [
    {
     "data": {
      "text/html": [
       "<div>\n",
       "<style scoped>\n",
       "    .dataframe tbody tr th:only-of-type {\n",
       "        vertical-align: middle;\n",
       "    }\n",
       "\n",
       "    .dataframe tbody tr th {\n",
       "        vertical-align: top;\n",
       "    }\n",
       "\n",
       "    .dataframe thead th {\n",
       "        text-align: right;\n",
       "    }\n",
       "</style>\n",
       "<table border=\"1\" class=\"dataframe\">\n",
       "  <thead>\n",
       "    <tr style=\"text-align: right;\">\n",
       "      <th></th>\n",
       "      <th>org</th>\n",
       "      <th>tld</th>\n",
       "      <th>ccs</th>\n",
       "      <th>mail_type</th>\n",
       "      <th>images</th>\n",
       "      <th>urls</th>\n",
       "      <th>salutations</th>\n",
       "      <th>designation</th>\n",
       "      <th>chars_in_subject</th>\n",
       "      <th>chars_in_body</th>\n",
       "      <th>label</th>\n",
       "      <th>day</th>\n",
       "      <th>month</th>\n",
       "      <th>hour</th>\n",
       "    </tr>\n",
       "    <tr>\n",
       "      <th>Id</th>\n",
       "      <th></th>\n",
       "      <th></th>\n",
       "      <th></th>\n",
       "      <th></th>\n",
       "      <th></th>\n",
       "      <th></th>\n",
       "      <th></th>\n",
       "      <th></th>\n",
       "      <th></th>\n",
       "      <th></th>\n",
       "      <th></th>\n",
       "      <th></th>\n",
       "      <th></th>\n",
       "      <th></th>\n",
       "    </tr>\n",
       "  </thead>\n",
       "  <tbody>\n",
       "    <tr>\n",
       "      <th>0</th>\n",
       "      <td>coursera</td>\n",
       "      <td>org</td>\n",
       "      <td>0</td>\n",
       "      <td>multipart/alternative</td>\n",
       "      <td>23</td>\n",
       "      <td>188</td>\n",
       "      <td>0</td>\n",
       "      <td>1</td>\n",
       "      <td>38</td>\n",
       "      <td>136818</td>\n",
       "      <td>0</td>\n",
       "      <td>Thu</td>\n",
       "      <td>Mar</td>\n",
       "      <td>1.950000</td>\n",
       "    </tr>\n",
       "    <tr>\n",
       "      <th>1</th>\n",
       "      <td>google</td>\n",
       "      <td>com</td>\n",
       "      <td>0</td>\n",
       "      <td>multipart/alternative</td>\n",
       "      <td>1</td>\n",
       "      <td>6</td>\n",
       "      <td>0</td>\n",
       "      <td>0</td>\n",
       "      <td>44</td>\n",
       "      <td>2467</td>\n",
       "      <td>0</td>\n",
       "      <td>Fri</td>\n",
       "      <td>Jan</td>\n",
       "      <td>5.333333</td>\n",
       "    </tr>\n",
       "    <tr>\n",
       "      <th>2</th>\n",
       "      <td>iiitd</td>\n",
       "      <td>ac.in</td>\n",
       "      <td>1</td>\n",
       "      <td>multipart/mixed</td>\n",
       "      <td>0</td>\n",
       "      <td>1</td>\n",
       "      <td>1</td>\n",
       "      <td>0</td>\n",
       "      <td>78</td>\n",
       "      <td>2809449</td>\n",
       "      <td>2</td>\n",
       "      <td>Mon</td>\n",
       "      <td>Aug</td>\n",
       "      <td>10.900000</td>\n",
       "    </tr>\n",
       "  </tbody>\n",
       "</table>\n",
       "</div>"
      ],
      "text/plain": [
       "         org    tld  ccs              mail_type  images  urls  salutations  \\\n",
       "Id                                                                           \n",
       "0   coursera    org    0  multipart/alternative      23   188            0   \n",
       "1     google    com    0  multipart/alternative       1     6            0   \n",
       "2      iiitd  ac.in    1        multipart/mixed       0     1            1   \n",
       "\n",
       "    designation  chars_in_subject  chars_in_body  label  day month       hour  \n",
       "Id                                                                             \n",
       "0             1                38         136818      0  Thu   Mar   1.950000  \n",
       "1             0                44           2467      0  Fri   Jan   5.333333  \n",
       "2             0                78        2809449      2  Mon   Aug  10.900000  "
      ]
     },
     "execution_count": 198,
     "metadata": {},
     "output_type": "execute_result"
    }
   ],
   "source": [
    "#Dataset opening\n",
    "dataset = pd.read_csv('../datasets/new_train.csv',index_col=0)\n",
    "train_modif=dataset.copy()\n",
    "train_modif.label.replace(to_replace={1:0, 3:0}, inplace=True)\n",
    "\n",
    "train_modif.head(3)"
   ]
  },
  {
   "cell_type": "markdown",
   "metadata": {},
   "source": [
    "We still have to encode the string columns with one hot encoder !"
   ]
  },
  {
   "cell_type": "code",
   "execution_count": 199,
   "metadata": {},
   "outputs": [],
   "source": [
    "from sklearn.preprocessing import OneHotEncoder\n",
    "#making a copy of the former dataset\n",
    "train_encoded=train_modif.copy()\n",
    "\n",
    "#Removing anoying features like day and month\n",
    "\n",
    "train_encoded.drop(['day','month'],axis=1,inplace=True)\n",
    "\n",
    "columns=['org','tld','mail_type']\n",
    "train_cat = train_encoded[columns]\n",
    "columns+=['label']\n",
    "train_num = train_encoded.drop(columns,axis=1)\n",
    "y=train_encoded['label'].values\n",
    "\n",
    "X_train_cat = train_cat.values\n",
    "\n",
    "encoder=OneHotEncoder(handle_unknown='ignore',sparse=False)\n",
    "X_encoded=encoder.fit_transform(X_train_cat)\n",
    "\n",
    "X_fully_encoded=np.concatenate((X_encoded,train_num.values),axis=1)"
   ]
  },
  {
   "cell_type": "code",
   "execution_count": 201,
   "metadata": {},
   "outputs": [],
   "source": [
    "# Split the dataset into the Training set and Test set\n",
    "X_train, X_test, y_train, y_test = train_test_split(X_fully_encoded, y, test_size = 0.2, random_state = 0)"
   ]
  },
  {
   "cell_type": "code",
   "execution_count": 202,
   "metadata": {},
   "outputs": [],
   "source": [
    "# Standardize features\n",
    "sc = StandardScaler()\n",
    "X_train = sc.fit_transform(X_train)\n",
    "X_test = sc.transform(X_test)"
   ]
  },
  {
   "cell_type": "code",
   "execution_count": 203,
   "metadata": {
    "scrolled": true
   },
   "outputs": [],
   "source": [
    "# Fit Random Forest Classification to the Training set\n",
    "classifier = GaussianNB()\n",
    "classifier.fit(X_train, y_train);"
   ]
  },
  {
   "cell_type": "code",
   "execution_count": 207,
   "metadata": {},
   "outputs": [
    {
     "data": {
      "text/plain": [
       "0.9465496609493419"
      ]
     },
     "execution_count": 207,
     "metadata": {},
     "output_type": "execute_result"
    }
   ],
   "source": [
    "# Predicting the Test set results\n",
    "y_pred = classifier.predict(X_test)\n",
    "accuracy_score(y_test, y_pred)\n",
    "# print(y_test[:58],y_pred[:58])"
   ]
  },
  {
   "cell_type": "markdown",
   "metadata": {},
   "source": [
    "We just reached quite an amazing precision with a binary classifier ! Hopefully, we will have better performances with other models on the data that has not label 1 with our binary classifier (meaning the occurrences formerly labeled as 0, 1 or 3)\n",
    "\n",
    "## III. Classification on the remaining data\n",
    "### III. A. Without dimensionality reduction\n",
    "#### III.A.a) KNN classification"
   ]
  },
  {
   "cell_type": "code",
   "execution_count": 209,
   "metadata": {},
   "outputs": [
    {
     "data": {
      "text/html": [
       "<div>\n",
       "<style scoped>\n",
       "    .dataframe tbody tr th:only-of-type {\n",
       "        vertical-align: middle;\n",
       "    }\n",
       "\n",
       "    .dataframe tbody tr th {\n",
       "        vertical-align: top;\n",
       "    }\n",
       "\n",
       "    .dataframe thead th {\n",
       "        text-align: right;\n",
       "    }\n",
       "</style>\n",
       "<table border=\"1\" class=\"dataframe\">\n",
       "  <thead>\n",
       "    <tr style=\"text-align: right;\">\n",
       "      <th></th>\n",
       "      <th>org</th>\n",
       "      <th>tld</th>\n",
       "      <th>ccs</th>\n",
       "      <th>mail_type</th>\n",
       "      <th>images</th>\n",
       "      <th>urls</th>\n",
       "      <th>salutations</th>\n",
       "      <th>designation</th>\n",
       "      <th>chars_in_subject</th>\n",
       "      <th>chars_in_body</th>\n",
       "      <th>label</th>\n",
       "      <th>day</th>\n",
       "      <th>month</th>\n",
       "      <th>hour</th>\n",
       "      <th>binary_label</th>\n",
       "    </tr>\n",
       "    <tr>\n",
       "      <th>Id</th>\n",
       "      <th></th>\n",
       "      <th></th>\n",
       "      <th></th>\n",
       "      <th></th>\n",
       "      <th></th>\n",
       "      <th></th>\n",
       "      <th></th>\n",
       "      <th></th>\n",
       "      <th></th>\n",
       "      <th></th>\n",
       "      <th></th>\n",
       "      <th></th>\n",
       "      <th></th>\n",
       "      <th></th>\n",
       "      <th></th>\n",
       "    </tr>\n",
       "  </thead>\n",
       "  <tbody>\n",
       "    <tr>\n",
       "      <th>0</th>\n",
       "      <td>coursera</td>\n",
       "      <td>org</td>\n",
       "      <td>0</td>\n",
       "      <td>multipart/alternative</td>\n",
       "      <td>23</td>\n",
       "      <td>188</td>\n",
       "      <td>0</td>\n",
       "      <td>1</td>\n",
       "      <td>38</td>\n",
       "      <td>136818</td>\n",
       "      <td>0</td>\n",
       "      <td>Thu</td>\n",
       "      <td>Mar</td>\n",
       "      <td>1.950000</td>\n",
       "      <td>0</td>\n",
       "    </tr>\n",
       "    <tr>\n",
       "      <th>1</th>\n",
       "      <td>google</td>\n",
       "      <td>com</td>\n",
       "      <td>0</td>\n",
       "      <td>multipart/alternative</td>\n",
       "      <td>1</td>\n",
       "      <td>6</td>\n",
       "      <td>0</td>\n",
       "      <td>0</td>\n",
       "      <td>44</td>\n",
       "      <td>2467</td>\n",
       "      <td>0</td>\n",
       "      <td>Fri</td>\n",
       "      <td>Jan</td>\n",
       "      <td>5.333333</td>\n",
       "      <td>0</td>\n",
       "    </tr>\n",
       "    <tr>\n",
       "      <th>2</th>\n",
       "      <td>iiitd</td>\n",
       "      <td>ac.in</td>\n",
       "      <td>1</td>\n",
       "      <td>multipart/mixed</td>\n",
       "      <td>0</td>\n",
       "      <td>1</td>\n",
       "      <td>1</td>\n",
       "      <td>0</td>\n",
       "      <td>78</td>\n",
       "      <td>2809449</td>\n",
       "      <td>2</td>\n",
       "      <td>Mon</td>\n",
       "      <td>Aug</td>\n",
       "      <td>10.900000</td>\n",
       "      <td>2</td>\n",
       "    </tr>\n",
       "    <tr>\n",
       "      <th>3</th>\n",
       "      <td>na</td>\n",
       "      <td>na</td>\n",
       "      <td>0</td>\n",
       "      <td>multipart/alternative</td>\n",
       "      <td>4</td>\n",
       "      <td>43</td>\n",
       "      <td>0</td>\n",
       "      <td>0</td>\n",
       "      <td>61</td>\n",
       "      <td>13775</td>\n",
       "      <td>0</td>\n",
       "      <td>Fri</td>\n",
       "      <td>Mar</td>\n",
       "      <td>3.766667</td>\n",
       "      <td>2</td>\n",
       "    </tr>\n",
       "    <tr>\n",
       "      <th>4</th>\n",
       "      <td>linkedin</td>\n",
       "      <td>com</td>\n",
       "      <td>0</td>\n",
       "      <td>multipart/alternative</td>\n",
       "      <td>4</td>\n",
       "      <td>26</td>\n",
       "      <td>0</td>\n",
       "      <td>0</td>\n",
       "      <td>29</td>\n",
       "      <td>22601</td>\n",
       "      <td>1</td>\n",
       "      <td>Thu</td>\n",
       "      <td>Jun</td>\n",
       "      <td>3.850000</td>\n",
       "      <td>0</td>\n",
       "    </tr>\n",
       "    <tr>\n",
       "      <th>5</th>\n",
       "      <td>iiitd</td>\n",
       "      <td>ac.in</td>\n",
       "      <td>0</td>\n",
       "      <td>multipart/alternative</td>\n",
       "      <td>0</td>\n",
       "      <td>28</td>\n",
       "      <td>1</td>\n",
       "      <td>0</td>\n",
       "      <td>37</td>\n",
       "      <td>15848</td>\n",
       "      <td>2</td>\n",
       "      <td>Mon</td>\n",
       "      <td>Oct</td>\n",
       "      <td>21.216667</td>\n",
       "      <td>2</td>\n",
       "    </tr>\n",
       "    <tr>\n",
       "      <th>6</th>\n",
       "      <td>flipkartletters</td>\n",
       "      <td>com</td>\n",
       "      <td>0</td>\n",
       "      <td>text/html</td>\n",
       "      <td>42</td>\n",
       "      <td>97</td>\n",
       "      <td>1</td>\n",
       "      <td>0</td>\n",
       "      <td>88</td>\n",
       "      <td>68612</td>\n",
       "      <td>3</td>\n",
       "      <td>Mon</td>\n",
       "      <td>Jan</td>\n",
       "      <td>2.466667</td>\n",
       "      <td>0</td>\n",
       "    </tr>\n",
       "    <tr>\n",
       "      <th>7</th>\n",
       "      <td>amazon</td>\n",
       "      <td>com</td>\n",
       "      <td>0</td>\n",
       "      <td>multipart/alternative</td>\n",
       "      <td>9</td>\n",
       "      <td>74</td>\n",
       "      <td>1</td>\n",
       "      <td>1</td>\n",
       "      <td>82</td>\n",
       "      <td>41354</td>\n",
       "      <td>0</td>\n",
       "      <td>Tue</td>\n",
       "      <td>Jan</td>\n",
       "      <td>3.333333</td>\n",
       "      <td>0</td>\n",
       "    </tr>\n",
       "    <tr>\n",
       "      <th>8</th>\n",
       "      <td>classroom</td>\n",
       "      <td>google.com</td>\n",
       "      <td>0</td>\n",
       "      <td>multipart/alternative</td>\n",
       "      <td>4</td>\n",
       "      <td>10</td>\n",
       "      <td>0</td>\n",
       "      <td>0</td>\n",
       "      <td>101</td>\n",
       "      <td>4294</td>\n",
       "      <td>0</td>\n",
       "      <td>Thu</td>\n",
       "      <td>Aug</td>\n",
       "      <td>11.750000</td>\n",
       "      <td>0</td>\n",
       "    </tr>\n",
       "    <tr>\n",
       "      <th>9</th>\n",
       "      <td>iiitd</td>\n",
       "      <td>ac.in</td>\n",
       "      <td>3</td>\n",
       "      <td>multipart/alternative</td>\n",
       "      <td>0</td>\n",
       "      <td>0</td>\n",
       "      <td>1</td>\n",
       "      <td>0</td>\n",
       "      <td>38</td>\n",
       "      <td>2004</td>\n",
       "      <td>2</td>\n",
       "      <td>Tue</td>\n",
       "      <td>May</td>\n",
       "      <td>13.716667</td>\n",
       "      <td>2</td>\n",
       "    </tr>\n",
       "  </tbody>\n",
       "</table>\n",
       "</div>"
      ],
      "text/plain": [
       "                org         tld  ccs              mail_type  images  urls  \\\n",
       "Id                                                                          \n",
       "0          coursera         org    0  multipart/alternative      23   188   \n",
       "1            google         com    0  multipart/alternative       1     6   \n",
       "2             iiitd       ac.in    1        multipart/mixed       0     1   \n",
       "3                na          na    0  multipart/alternative       4    43   \n",
       "4          linkedin         com    0  multipart/alternative       4    26   \n",
       "5             iiitd       ac.in    0  multipart/alternative       0    28   \n",
       "6   flipkartletters         com    0              text/html      42    97   \n",
       "7            amazon         com    0  multipart/alternative       9    74   \n",
       "8         classroom  google.com    0  multipart/alternative       4    10   \n",
       "9             iiitd       ac.in    3  multipart/alternative       0     0   \n",
       "\n",
       "    salutations  designation  chars_in_subject  chars_in_body  label  day  \\\n",
       "Id                                                                          \n",
       "0             0            1                38         136818      0  Thu   \n",
       "1             0            0                44           2467      0  Fri   \n",
       "2             1            0                78        2809449      2  Mon   \n",
       "3             0            0                61          13775      0  Fri   \n",
       "4             0            0                29          22601      1  Thu   \n",
       "5             1            0                37          15848      2  Mon   \n",
       "6             1            0                88          68612      3  Mon   \n",
       "7             1            1                82          41354      0  Tue   \n",
       "8             0            0               101           4294      0  Thu   \n",
       "9             1            0                38           2004      2  Tue   \n",
       "\n",
       "   month       hour  binary_label  \n",
       "Id                                 \n",
       "0    Mar   1.950000             0  \n",
       "1    Jan   5.333333             0  \n",
       "2    Aug  10.900000             2  \n",
       "3    Mar   3.766667             2  \n",
       "4    Jun   3.850000             0  \n",
       "5    Oct  21.216667             2  \n",
       "6    Jan   2.466667             0  \n",
       "7    Jan   3.333333             0  \n",
       "8    Aug  11.750000             0  \n",
       "9    May  13.716667             2  "
      ]
     },
     "execution_count": 209,
     "metadata": {},
     "output_type": "execute_result"
    }
   ],
   "source": [
    "#We must retrieve predictions on the whole training set\n",
    "X = sc.transform(X_fully_encoded)\n",
    "y_predicted = classifier.predict(X)\n",
    "\n",
    "dataset['binary_label']=y_predicted\n",
    "dataset.head(10)"
   ]
  },
  {
   "cell_type": "markdown",
   "metadata": {},
   "source": [
    "Now, we should only keep the lines that have been labeled 0 by the binary classifier and only then, drop the column 'binary_label'"
   ]
  },
  {
   "cell_type": "code",
   "execution_count": 210,
   "metadata": {},
   "outputs": [
    {
     "data": {
      "text/html": [
       "<div>\n",
       "<style scoped>\n",
       "    .dataframe tbody tr th:only-of-type {\n",
       "        vertical-align: middle;\n",
       "    }\n",
       "\n",
       "    .dataframe tbody tr th {\n",
       "        vertical-align: top;\n",
       "    }\n",
       "\n",
       "    .dataframe thead th {\n",
       "        text-align: right;\n",
       "    }\n",
       "</style>\n",
       "<table border=\"1\" class=\"dataframe\">\n",
       "  <thead>\n",
       "    <tr style=\"text-align: right;\">\n",
       "      <th></th>\n",
       "      <th>org</th>\n",
       "      <th>tld</th>\n",
       "      <th>ccs</th>\n",
       "      <th>mail_type</th>\n",
       "      <th>images</th>\n",
       "      <th>urls</th>\n",
       "      <th>salutations</th>\n",
       "      <th>designation</th>\n",
       "      <th>chars_in_subject</th>\n",
       "      <th>chars_in_body</th>\n",
       "      <th>label</th>\n",
       "      <th>day</th>\n",
       "      <th>month</th>\n",
       "      <th>hour</th>\n",
       "    </tr>\n",
       "    <tr>\n",
       "      <th>Id</th>\n",
       "      <th></th>\n",
       "      <th></th>\n",
       "      <th></th>\n",
       "      <th></th>\n",
       "      <th></th>\n",
       "      <th></th>\n",
       "      <th></th>\n",
       "      <th></th>\n",
       "      <th></th>\n",
       "      <th></th>\n",
       "      <th></th>\n",
       "      <th></th>\n",
       "      <th></th>\n",
       "      <th></th>\n",
       "    </tr>\n",
       "  </thead>\n",
       "  <tbody>\n",
       "    <tr>\n",
       "      <th>0</th>\n",
       "      <td>coursera</td>\n",
       "      <td>org</td>\n",
       "      <td>0</td>\n",
       "      <td>multipart/alternative</td>\n",
       "      <td>23</td>\n",
       "      <td>188</td>\n",
       "      <td>0</td>\n",
       "      <td>1</td>\n",
       "      <td>38</td>\n",
       "      <td>136818</td>\n",
       "      <td>0</td>\n",
       "      <td>Thu</td>\n",
       "      <td>Mar</td>\n",
       "      <td>1.950000</td>\n",
       "    </tr>\n",
       "    <tr>\n",
       "      <th>1</th>\n",
       "      <td>google</td>\n",
       "      <td>com</td>\n",
       "      <td>0</td>\n",
       "      <td>multipart/alternative</td>\n",
       "      <td>1</td>\n",
       "      <td>6</td>\n",
       "      <td>0</td>\n",
       "      <td>0</td>\n",
       "      <td>44</td>\n",
       "      <td>2467</td>\n",
       "      <td>0</td>\n",
       "      <td>Fri</td>\n",
       "      <td>Jan</td>\n",
       "      <td>5.333333</td>\n",
       "    </tr>\n",
       "    <tr>\n",
       "      <th>4</th>\n",
       "      <td>linkedin</td>\n",
       "      <td>com</td>\n",
       "      <td>0</td>\n",
       "      <td>multipart/alternative</td>\n",
       "      <td>4</td>\n",
       "      <td>26</td>\n",
       "      <td>0</td>\n",
       "      <td>0</td>\n",
       "      <td>29</td>\n",
       "      <td>22601</td>\n",
       "      <td>1</td>\n",
       "      <td>Thu</td>\n",
       "      <td>Jun</td>\n",
       "      <td>3.850000</td>\n",
       "    </tr>\n",
       "  </tbody>\n",
       "</table>\n",
       "</div>"
      ],
      "text/plain": [
       "         org  tld  ccs              mail_type  images  urls  salutations  \\\n",
       "Id                                                                         \n",
       "0   coursera  org    0  multipart/alternative      23   188            0   \n",
       "1     google  com    0  multipart/alternative       1     6            0   \n",
       "4   linkedin  com    0  multipart/alternative       4    26            0   \n",
       "\n",
       "    designation  chars_in_subject  chars_in_body  label  day month      hour  \n",
       "Id                                                                            \n",
       "0             1                38         136818      0  Thu   Mar  1.950000  \n",
       "1             0                44           2467      0  Fri   Jan  5.333333  \n",
       "4             0                29          22601      1  Thu   Jun  3.850000  "
      ]
     },
     "execution_count": 210,
     "metadata": {},
     "output_type": "execute_result"
    }
   ],
   "source": [
    "new_train = dataset[dataset['binary_label']==0].drop('binary_label',axis=1)\n",
    "new_train.head(3)"
   ]
  },
  {
   "cell_type": "markdown",
   "metadata": {},
   "source": [
    "It is time for a new hot encoding of the categorical data."
   ]
  },
  {
   "cell_type": "code",
   "execution_count": 211,
   "metadata": {},
   "outputs": [],
   "source": [
    "encoder2=OneHotEncoder(handle_unknown='ignore',sparse=False)\n",
    "# Removing anoying features like day and month\n",
    "new_train2 = new_train.drop(['day','month'],axis=1)\n",
    "\n",
    "X_cat = new_train2[['org','tld','mail_type']].values\n",
    "X_num = new_train2.drop(['org','tld','mail_type','label'],axis=1).values"
   ]
  },
  {
   "cell_type": "code",
   "execution_count": 212,
   "metadata": {},
   "outputs": [],
   "source": [
    "X_cat_encoded = encoder2.fit_transform(X_cat)\n",
    "X=np.concatenate((X_cat_encoded, X_num),axis=1)\n",
    "\n",
    "y = new_train['label'].values"
   ]
  },
  {
   "cell_type": "markdown",
   "metadata": {},
   "source": [
    "Now we can try the knn classifier on this new data"
   ]
  },
  {
   "cell_type": "code",
   "execution_count": 213,
   "metadata": {},
   "outputs": [],
   "source": [
    "from sklearn.neighbors import KNeighborsClassifier as knn"
   ]
  },
  {
   "cell_type": "code",
   "execution_count": 214,
   "metadata": {},
   "outputs": [],
   "source": [
    "# Split the dataset into the Training set and Test set\n",
    "X_train, X_test, y_train, y_test = train_test_split(X, y, test_size = 0.2, random_state = 0)"
   ]
  },
  {
   "cell_type": "code",
   "execution_count": 215,
   "metadata": {
    "scrolled": true
   },
   "outputs": [],
   "source": [
    "# Fit Random Forest Classification to the Training set\n",
    "classifier = knn(n_neighbors=3)\n",
    "classifier.fit(X_train, y_train);"
   ]
  },
  {
   "cell_type": "code",
   "execution_count": 216,
   "metadata": {},
   "outputs": [
    {
     "data": {
      "text/plain": [
       "0.658820417878868"
      ]
     },
     "execution_count": 216,
     "metadata": {},
     "output_type": "execute_result"
    }
   ],
   "source": [
    "# Predicting the Test set results\n",
    "y_pred1 = classifier.predict(X_test)\n",
    "accuracy_score(y_test, y_pred1)"
   ]
  },
  {
   "cell_type": "markdown",
   "metadata": {},
   "source": [
    "#### III.A.b) XGBoost"
   ]
  },
  {
   "cell_type": "code",
   "execution_count": 91,
   "metadata": {},
   "outputs": [],
   "source": [
    "from xgboost import XGBClassifier\n",
    "\n",
    "# Fit XGBoost to the Training set\n",
    "classifier = XGBClassifier()\n",
    "classifier.fit(X_train, y_train);"
   ]
  },
  {
   "cell_type": "code",
   "execution_count": 92,
   "metadata": {},
   "outputs": [],
   "source": [
    "import pickle as pk\n",
    "\n",
    "with open('../classifiers/xgboost.txt','wb') as fichier:\n",
    "    pickler=pk.Pickler(fichier)\n",
    "    pickler.dump(classifier)"
   ]
  },
  {
   "cell_type": "code",
   "execution_count": 93,
   "metadata": {},
   "outputs": [
    {
     "data": {
      "text/plain": [
       "0.8664374504099445"
      ]
     },
     "execution_count": 93,
     "metadata": {},
     "output_type": "execute_result"
    }
   ],
   "source": [
    "# Predict the Test set results\n",
    "y_pred1 = classifier.predict(X_test)\n",
    "accuracy_score(y_test, y_pred)"
   ]
  },
  {
   "cell_type": "markdown",
   "metadata": {},
   "source": [
    "#### III.A.c) Random Forest"
   ]
  },
  {
   "cell_type": "code",
   "execution_count": 115,
   "metadata": {},
   "outputs": [
    {
     "data": {
      "text/plain": [
       "RandomForestClassifier(bootstrap=True, class_weight=None, criterion='entropy',\n",
       "                       max_depth=None, max_features='auto', max_leaf_nodes=None,\n",
       "                       min_impurity_decrease=0.0, min_impurity_split=None,\n",
       "                       min_samples_leaf=1, min_samples_split=2,\n",
       "                       min_weight_fraction_leaf=0.0, n_estimators=10,\n",
       "                       n_jobs=None, oob_score=False, random_state=0, verbose=0,\n",
       "                       warm_start=False)"
      ]
     },
     "execution_count": 115,
     "metadata": {},
     "output_type": "execute_result"
    }
   ],
   "source": [
    "from sklearn.ensemble import RandomForestClassifier\n",
    "\n",
    "# Fit Random Forest Classification to the Training set\n",
    "classifier = RandomForestClassifier(n_estimators=10, criterion='entropy', random_state=0)\n",
    "classifier.fit(X_train, y_train);"
   ]
  },
  {
   "cell_type": "code",
   "execution_count": 116,
   "metadata": {},
   "outputs": [
    {
     "data": {
      "text/plain": [
       "0.9243586352816715"
      ]
     },
     "execution_count": 116,
     "metadata": {},
     "output_type": "execute_result"
    }
   ],
   "source": [
    "# Predicting the Test set results\n",
    "y_pred = classifier.predict(X_test)\n",
    "accuracy_score(y_test, y_pred)"
   ]
  },
  {
   "cell_type": "markdown",
   "metadata": {},
   "source": [
    "### III.B. With dimensionality reduction\n",
    "#### III.B.a) KNN classification"
   ]
  },
  {
   "cell_type": "code",
   "execution_count": 109,
   "metadata": {},
   "outputs": [
    {
     "name": "stderr",
     "output_type": "stream",
     "text": [
      "D:\\Programmes files (x86)\\Anaconda\\lib\\site-packages\\sklearn\\discriminant_analysis.py:466: ChangedBehaviorWarning: n_components cannot be larger than min(n_features, n_classes - 1). Using min(n_features, n_classes - 1) = min(664, 3 - 1) = 2 components.\n",
      "  ChangedBehaviorWarning)\n",
      "D:\\Programmes files (x86)\\Anaconda\\lib\\site-packages\\sklearn\\discriminant_analysis.py:472: FutureWarning: In version 0.23, setting n_components > min(n_features, n_classes - 1) will raise a ValueError. You should set n_components to None (default), or a value smaller or equal to min(n_features, n_classes - 1).\n",
      "  warnings.warn(future_msg, FutureWarning)\n",
      "D:\\Programmes files (x86)\\Anaconda\\lib\\site-packages\\sklearn\\discriminant_analysis.py:388: UserWarning: Variables are collinear.\n",
      "  warnings.warn(\"Variables are collinear.\")\n"
     ]
    }
   ],
   "source": [
    "# Dimensionality reduction\n",
    "from sklearn.discriminant_analysis import LinearDiscriminantAnalysis as LDA\n",
    "lda = LDA(n_components=3)\n",
    "X_train2 = lda.fit_transform(X_train, y_train)\n",
    "X_test2 = lda.transform(X_test);"
   ]
  },
  {
   "cell_type": "code",
   "execution_count": 96,
   "metadata": {
    "scrolled": true
   },
   "outputs": [],
   "source": [
    "# Fit Random Forest Classification to the Training set\n",
    "classifier = knn(n_neighbors=3)\n",
    "classifier.fit(X_train2, y_train);"
   ]
  },
  {
   "cell_type": "code",
   "execution_count": 97,
   "metadata": {},
   "outputs": [
    {
     "data": {
      "text/plain": [
       "0.89896852684475"
      ]
     },
     "execution_count": 97,
     "metadata": {},
     "output_type": "execute_result"
    }
   ],
   "source": [
    "# Predicting the Test set results\n",
    "y_pred2 = classifier.predict(X_test2)\n",
    "accuracy_score(y_test, y_pred2)"
   ]
  },
  {
   "cell_type": "markdown",
   "metadata": {},
   "source": [
    "Let's try it out with the PCA algorithm"
   ]
  },
  {
   "cell_type": "code",
   "execution_count": 105,
   "metadata": {},
   "outputs": [],
   "source": [
    "from sklearn.decomposition import PCA\n",
    "pca = PCA(n_components=10)\n",
    "X_train3 = pca.fit_transform(X_train)\n",
    "X_test3 = pca.transform(X_test)"
   ]
  },
  {
   "cell_type": "code",
   "execution_count": 106,
   "metadata": {
    "scrolled": true
   },
   "outputs": [],
   "source": [
    "classifier = knn(n_neighbors=3)\n",
    "classifier.fit(X_train, y_train);"
   ]
  },
  {
   "cell_type": "code",
   "execution_count": 107,
   "metadata": {},
   "outputs": [
    {
     "data": {
      "text/plain": [
       "0.918540068764877"
      ]
     },
     "execution_count": 107,
     "metadata": {},
     "output_type": "execute_result"
    }
   ],
   "source": [
    "# Predicting the Test set results\n",
    "y_pred = classifier.predict(X_test)\n",
    "accuracy_score(y_test, y_pred)"
   ]
  },
  {
   "cell_type": "markdown",
   "metadata": {},
   "source": [
    "#### III.B.b) XGBoost"
   ]
  },
  {
   "cell_type": "markdown",
   "metadata": {},
   "source": [
    "With the lda dimensionality reduction"
   ]
  },
  {
   "cell_type": "code",
   "execution_count": 110,
   "metadata": {},
   "outputs": [],
   "source": [
    "# Fit XGBoost to the Training set\n",
    "classifier = XGBClassifier()\n",
    "classifier.fit(X_train2, y_train);"
   ]
  },
  {
   "cell_type": "code",
   "execution_count": 112,
   "metadata": {},
   "outputs": [
    {
     "data": {
      "text/plain": [
       "0.8976461253636604"
      ]
     },
     "execution_count": 112,
     "metadata": {},
     "output_type": "execute_result"
    }
   ],
   "source": [
    "# Predict the Test set results\n",
    "y_pred = classifier.predict(X_test2)\n",
    "accuracy_score(y_test, y_pred)"
   ]
  },
  {
   "cell_type": "markdown",
   "metadata": {},
   "source": [
    "With PCA"
   ]
  },
  {
   "cell_type": "code",
   "execution_count": 113,
   "metadata": {},
   "outputs": [],
   "source": [
    "# Fit XGBoost to the Training set\n",
    "classifier = XGBClassifier()\n",
    "classifier.fit(X_train3, y_train);"
   ]
  },
  {
   "cell_type": "code",
   "execution_count": 112,
   "metadata": {},
   "outputs": [
    {
     "data": {
      "text/plain": [
       "0.8976461253636604"
      ]
     },
     "execution_count": 112,
     "metadata": {},
     "output_type": "execute_result"
    }
   ],
   "source": [
    "# Predict the Test set results\n",
    "y_pred = classifier.predict(X_test3)\n",
    "accuracy_score(y_test, y_pred)"
   ]
  },
  {
   "cell_type": "markdown",
   "metadata": {},
   "source": [
    "#### III.B.c) Random Forest"
   ]
  },
  {
   "cell_type": "markdown",
   "metadata": {},
   "source": [
    "With LDA"
   ]
  },
  {
   "cell_type": "code",
   "execution_count": 117,
   "metadata": {},
   "outputs": [],
   "source": [
    "# Fit Random Forest Classification to the Training set\n",
    "classifier = RandomForestClassifier(n_estimators=10, criterion='entropy', random_state=0)\n",
    "classifier.fit(X_train2, y_train);"
   ]
  },
  {
   "cell_type": "code",
   "execution_count": 118,
   "metadata": {},
   "outputs": [
    {
     "data": {
      "text/plain": [
       "0.9034646918804549"
      ]
     },
     "execution_count": 118,
     "metadata": {},
     "output_type": "execute_result"
    }
   ],
   "source": [
    "# Predicting the Test set results\n",
    "y_pred = classifier.predict(X_test2)\n",
    "accuracy_score(y_test, y_pred)"
   ]
  },
  {
   "cell_type": "markdown",
   "metadata": {},
   "source": [
    "With PCA"
   ]
  },
  {
   "cell_type": "code",
   "execution_count": 120,
   "metadata": {},
   "outputs": [],
   "source": [
    "# Fit Random Forest Classification to the Training set\n",
    "classifier = RandomForestClassifier(n_estimators=10, criterion='entropy', random_state=0)\n",
    "classifier.fit(X_train3, y_train);"
   ]
  },
  {
   "cell_type": "code",
   "execution_count": 121,
   "metadata": {},
   "outputs": [
    {
     "data": {
      "text/plain": [
       "0.8534779158952658"
      ]
     },
     "execution_count": 121,
     "metadata": {},
     "output_type": "execute_result"
    }
   ],
   "source": [
    "# Predicting the Test set results\n",
    "y_pred = classifier.predict(X_test3)\n",
    "accuracy_score(y_test, y_pred)"
   ]
  },
  {
   "cell_type": "markdown",
   "metadata": {},
   "source": [
    "## IV. Conclusion\n",
    "\n",
    "It turns out that the best estimator is a naive bayes binary classifier combined with a random forest on the remaining data that was not classified as label 2. We must see how it goes with the test data set.\n",
    "\n",
    "### IV. A. Binary classification first"
   ]
  },
  {
   "cell_type": "code",
   "execution_count": 178,
   "metadata": {},
   "outputs": [],
   "source": [
    "# Load the dataset\n",
    "df_train = pd.read_csv('../datasets/new_train.csv', index_col=0)\n",
    "df_test = pd.read_csv('../datasets/new_test.csv',index_col=0)\n",
    "\n",
    "train_modif = df_train.copy()\n",
    "train_modif.label.replace(to_replace={1:0, 3:0, 2:1}, inplace=True)"
   ]
  },
  {
   "cell_type": "code",
   "execution_count": 179,
   "metadata": {},
   "outputs": [],
   "source": [
    "train_encoded=train_modif.copy()\n",
    "test_encoded=df_test.copy()\n",
    "\n",
    "#Removing anoying features like day and month\n",
    "train_encoded.drop(['day','month'],axis=1,inplace=True)\n",
    "test_encoded.drop(['day','month'],axis=1,inplace=True)\n",
    "\n",
    "#Seperating categorical values from others\n",
    "train_cat = train_encoded[['org','tld','mail_type']]\n",
    "train_num = train_encoded.drop(['org','tld','mail_type','label'],axis=1)\n",
    "test_cat = test_encoded[['org','tld','mail_type']]\n",
    "test_num = test_encoded.drop(['org','tld','mail_type'],axis=1)\n",
    "\n",
    "#Saving the labels somewhere\n",
    "y_train=train_encoded['label'].values\n",
    "\n",
    "#Switching to arrays\n",
    "X_train_cat = train_cat.values\n",
    "X_test_cat = test_cat.values\n",
    "\n",
    "encoder=OneHotEncoder(handle_unknown='ignore',sparse=False)\n",
    "X_train_encoded = encoder.fit_transform(X_train_cat)\n",
    "X_test_encoded = encoder.transform(X_test_cat)\n",
    "\n",
    "X_train_fully_encoded=np.concatenate((X_train_encoded,train_num.values),axis=1)\n",
    "X_test_fully_encoded=np.concatenate((X_test_encoded,test_num.values),axis=1)"
   ]
  },
  {
   "cell_type": "code",
   "execution_count": 180,
   "metadata": {},
   "outputs": [],
   "source": [
    "# Standardize features\n",
    "sc = StandardScaler()\n",
    "X_train = sc.fit_transform(X_train_fully_encoded)\n",
    "X_test = sc.fit_transform(X_test_fully_encoded)"
   ]
  },
  {
   "cell_type": "code",
   "execution_count": 181,
   "metadata": {
    "scrolled": true
   },
   "outputs": [],
   "source": [
    "# Fit Binary classification Classification to the Training set\n",
    "classifier = GaussianNB()\n",
    "classifier.fit(X_train, y_train);"
   ]
  },
  {
   "cell_type": "code",
   "execution_count": 182,
   "metadata": {},
   "outputs": [],
   "source": [
    "# Predicting the train set results\n",
    "y_pred_train = classifier.predict(X_train)\n",
    "df_train['binary_label']=y_pred_train\n",
    "#Predicting the test set\n",
    "y_pred_test = classifier.predict(X_test)\n",
    "df_test['binary_label']=y_pred_test"
   ]
  },
  {
   "cell_type": "markdown",
   "metadata": {},
   "source": [
    "### IV. B. Final classification\n",
    "\n",
    "Right after we split the dataset in two parts we must classify the remaining part of the dataset"
   ]
  },
  {
   "cell_type": "code",
   "execution_count": 183,
   "metadata": {},
   "outputs": [
    {
     "data": {
      "text/html": [
       "<div>\n",
       "<style scoped>\n",
       "    .dataframe tbody tr th:only-of-type {\n",
       "        vertical-align: middle;\n",
       "    }\n",
       "\n",
       "    .dataframe tbody tr th {\n",
       "        vertical-align: top;\n",
       "    }\n",
       "\n",
       "    .dataframe thead th {\n",
       "        text-align: right;\n",
       "    }\n",
       "</style>\n",
       "<table border=\"1\" class=\"dataframe\">\n",
       "  <thead>\n",
       "    <tr style=\"text-align: right;\">\n",
       "      <th></th>\n",
       "      <th>org</th>\n",
       "      <th>tld</th>\n",
       "      <th>ccs</th>\n",
       "      <th>mail_type</th>\n",
       "      <th>images</th>\n",
       "      <th>urls</th>\n",
       "      <th>salutations</th>\n",
       "      <th>designation</th>\n",
       "      <th>chars_in_subject</th>\n",
       "      <th>chars_in_body</th>\n",
       "      <th>day</th>\n",
       "      <th>month</th>\n",
       "      <th>hour</th>\n",
       "      <th>binary_label</th>\n",
       "    </tr>\n",
       "    <tr>\n",
       "      <th>Id</th>\n",
       "      <th></th>\n",
       "      <th></th>\n",
       "      <th></th>\n",
       "      <th></th>\n",
       "      <th></th>\n",
       "      <th></th>\n",
       "      <th></th>\n",
       "      <th></th>\n",
       "      <th></th>\n",
       "      <th></th>\n",
       "      <th></th>\n",
       "      <th></th>\n",
       "      <th></th>\n",
       "      <th></th>\n",
       "    </tr>\n",
       "  </thead>\n",
       "  <tbody>\n",
       "    <tr>\n",
       "      <th>0</th>\n",
       "      <td>iiitd</td>\n",
       "      <td>ac.in</td>\n",
       "      <td>4</td>\n",
       "      <td>multipart/alternative</td>\n",
       "      <td>1</td>\n",
       "      <td>15</td>\n",
       "      <td>1</td>\n",
       "      <td>0</td>\n",
       "      <td>50</td>\n",
       "      <td>9733</td>\n",
       "      <td>Sun</td>\n",
       "      <td>Aug</td>\n",
       "      <td>0.950000</td>\n",
       "      <td>0</td>\n",
       "    </tr>\n",
       "    <tr>\n",
       "      <th>1</th>\n",
       "      <td>usief</td>\n",
       "      <td>org.in</td>\n",
       "      <td>0</td>\n",
       "      <td>multipart/alternative</td>\n",
       "      <td>0</td>\n",
       "      <td>45</td>\n",
       "      <td>0</td>\n",
       "      <td>0</td>\n",
       "      <td>50</td>\n",
       "      <td>127388</td>\n",
       "      <td>Tue</td>\n",
       "      <td>Oct</td>\n",
       "      <td>1.983333</td>\n",
       "      <td>0</td>\n",
       "    </tr>\n",
       "    <tr>\n",
       "      <th>2</th>\n",
       "      <td>entropay</td>\n",
       "      <td>com</td>\n",
       "      <td>0</td>\n",
       "      <td>multipart/alternative</td>\n",
       "      <td>1</td>\n",
       "      <td>6</td>\n",
       "      <td>1</td>\n",
       "      <td>0</td>\n",
       "      <td>40</td>\n",
       "      <td>4003</td>\n",
       "      <td>Tue</td>\n",
       "      <td>Nov</td>\n",
       "      <td>12.033333</td>\n",
       "      <td>0</td>\n",
       "    </tr>\n",
       "  </tbody>\n",
       "</table>\n",
       "</div>"
      ],
      "text/plain": [
       "         org     tld  ccs              mail_type  images  urls  salutations  \\\n",
       "Id                                                                            \n",
       "0      iiitd   ac.in    4  multipart/alternative       1    15            1   \n",
       "1      usief  org.in    0  multipart/alternative       0    45            0   \n",
       "2   entropay     com    0  multipart/alternative       1     6            1   \n",
       "\n",
       "    designation  chars_in_subject  chars_in_body  day month       hour  \\\n",
       "Id                                                                       \n",
       "0             0                50           9733  Sun   Aug   0.950000   \n",
       "1             0                50         127388  Tue   Oct   1.983333   \n",
       "2             0                40           4003  Tue   Nov  12.033333   \n",
       "\n",
       "    binary_label  \n",
       "Id                \n",
       "0              0  \n",
       "1              0  \n",
       "2              0  "
      ]
     },
     "execution_count": 183,
     "metadata": {},
     "output_type": "execute_result"
    }
   ],
   "source": [
    "new_train = df_train[df_train['binary_label']==0].drop('binary_label',axis=1)\n",
    "new_test = df_test[df_test['binary_label']==0].drop('binary_label',axis=1)\n",
    "df_test.head(3)"
   ]
  },
  {
   "cell_type": "markdown",
   "metadata": {},
   "source": [
    "It is time for a new hot encoding of the categorical data."
   ]
  },
  {
   "cell_type": "code",
   "execution_count": 184,
   "metadata": {},
   "outputs": [],
   "source": [
    "# Removing anoying features like day and month\n",
    "new_train2 = new_train.drop(['day','month'],axis=1)\n",
    "new_test2 = new_test.drop(['day','month'],axis=1)\n",
    "\n",
    "X_train_cat = new_train2[['org','tld','mail_type']].values\n",
    "X_train_num = new_train2.drop(['org','tld','mail_type','label'],axis=1).values\n",
    "\n",
    "X_test_cat = new_test2[['org','tld','mail_type']].values\n",
    "X_test_num = new_test2.drop(['org','tld','mail_type'],axis=1).values"
   ]
  },
  {
   "cell_type": "code",
   "execution_count": 185,
   "metadata": {},
   "outputs": [],
   "source": [
    "encoder=OneHotEncoder(handle_unknown='ignore',sparse=False)\n",
    "X_train_cat_encoded = encoder.fit_transform(X_train_cat)\n",
    "X_train=np.concatenate((X_train_cat_encoded, X_train_num),axis=1)\n",
    "\n",
    "X_test_cat_encoded = encoder.transform(X_test_cat)\n",
    "X_test=np.concatenate((X_test_cat_encoded, X_test_num),axis=1)\n",
    "\n",
    "y_train = new_train2['label'].values"
   ]
  },
  {
   "cell_type": "code",
   "execution_count": 186,
   "metadata": {},
   "outputs": [],
   "source": [
    "# Fit Random Forest Classification to the Training set\n",
    "classifier = RandomForestClassifier(n_estimators=10, criterion='entropy', random_state=0)\n",
    "classifier.fit(X_train, y_train);"
   ]
  },
  {
   "cell_type": "code",
   "execution_count": 187,
   "metadata": {},
   "outputs": [],
   "source": [
    "# Predict the Test set results\n",
    "y_pred2 = classifier.predict(X_test)\n",
    "#Upload every label on the data set\n",
    "indice1,indice2=0,0\n",
    "longueur1,longueur2=len(list(y_pred_test)),len(list(y_pred2))\n",
    "\n",
    "res=longueur1*[-1]\n",
    "\n",
    "while (indice1<longueur1) and (indice2<longueur2):\n",
    "    if y_pred_test[indice1]==0:\n",
    "        res[indice1]=y_pred2[indice2]\n",
    "        indice2+=1\n",
    "        indice1+=1\n",
    "    else:\n",
    "        res[indice1]=2\n",
    "        indice1+=1"
   ]
  },
  {
   "cell_type": "code",
   "execution_count": 196,
   "metadata": {},
   "outputs": [],
   "source": [
    "# Save results to submission file\n",
    "y_pred = pd.DataFrame(res, columns=['label'])\n",
    "y_pred.to_csv(\"../datasets/binary_classification_forest.csv\", index=True, index_label='Id')"
   ]
  },
  {
   "cell_type": "code",
   "execution_count": 195,
   "metadata": {},
   "outputs": [
    {
     "name": "stdout",
     "output_type": "stream",
     "text": [
      "10730\n"
     ]
    }
   ],
   "source": [
    "df_test['label']=y_pred\n",
    "print(len([x for x in y_pred_test if x==0]))"
   ]
  },
  {
   "cell_type": "code",
   "execution_count": null,
   "metadata": {},
   "outputs": [],
   "source": []
  }
 ],
 "metadata": {
  "kernelspec": {
   "display_name": "Python 3",
   "language": "python",
   "name": "python3"
  },
  "language_info": {
   "codemirror_mode": {
    "name": "ipython",
    "version": 3
   },
   "file_extension": ".py",
   "mimetype": "text/x-python",
   "name": "python",
   "nbconvert_exporter": "python",
   "pygments_lexer": "ipython3",
   "version": "3.7.3"
  }
 },
 "nbformat": 4,
 "nbformat_minor": 4
}
